{
 "cells": [
  {
   "cell_type": "code",
   "execution_count": 1,
   "id": "80089664-8268-43bd-9d54-a93c5b9a818d",
   "metadata": {},
   "outputs": [],
   "source": [
    "#!conda install -c conda-forge spotipy -y"
   ]
  },
  {
   "cell_type": "code",
   "execution_count": 2,
   "id": "f5b3400b-b8fe-49d6-8af8-836c5cb1d6ff",
   "metadata": {},
   "outputs": [],
   "source": [
    "import sys\n",
    "from config import *"
   ]
  },
  {
   "cell_type": "code",
   "execution_count": 3,
   "id": "51e10ecd-4041-48da-adfc-f0f63922868f",
   "metadata": {},
   "outputs": [],
   "source": [
    "import spotipy\n",
    "import json\n",
    "from spotipy.oauth2 import SpotifyClientCredentials\n",
    "\n",
    "#Initialize SpotiPy with user credentials \n",
    "sp = spotipy.Spotify(auth_manager=SpotifyClientCredentials(client_id=Client_ID,\n",
    "                                                           client_secret=Client_Secret))"
   ]
  },
  {
   "cell_type": "code",
   "execution_count": 4,
   "id": "ee84918d-f2d2-4ed3-8612-7e199f04fc07",
   "metadata": {},
   "outputs": [],
   "source": [
    "import pandas as pd\n",
    "import numpy as np"
   ]
  },
  {
   "cell_type": "code",
   "execution_count": 5,
   "id": "9fc5f984-baf3-4d19-929f-50c5dc1bb535",
   "metadata": {},
   "outputs": [],
   "source": [
    "sp._session.timeout = 10"
   ]
  },
  {
   "cell_type": "code",
   "execution_count": 6,
   "id": "0256bbf0-ec24-4f9e-8b2b-f9948897e1dc",
   "metadata": {},
   "outputs": [],
   "source": [
    "# We define the function to get the song id, based on the title and artist:\n",
    "import pandas as pd\n",
    "def search_song(title:str, artist:str=None, lim: int = 5):\n",
    "    if artist:\n",
    "        query = f\"track:{title} artist:{artist}\"\n",
    "    else:\n",
    "        query = f\"track:{title}\"\n",
    "    try:\n",
    "        results = sp.search(q=query)\n",
    "        tracks = results['tracks']['items']\n",
    "        if not tracks:\n",
    "            print(\"Song\", title, \"from\", artist, \"not found!\")\n",
    "            return pd.DataFrame()\n",
    "        \n",
    "        # Extract relevant information from each track\n",
    "        records = []\n",
    "        for track in tracks[:lim]:\n",
    "            record = {\n",
    "                'title': track['name'],\n",
    "                'artist': ', '.join([artist['name'] for artist in track['artists']]),\n",
    "                'id': track['id']\n",
    "            }\n",
    "            records.append(record)\n",
    "            \n",
    "        # Create DataFrame from the list of records\n",
    "        df = pd.DataFrame(records)\n",
    "        return df\n",
    "    \n",
    "    except Exception as e:\n",
    "        print(f\"Error: {e}\")\n",
    "        return pd.DataFrame()"
   ]
  },
  {
   "cell_type": "code",
   "execution_count": null,
   "id": "4d9f58c8-3ade-4b39-a3d3-904413342da5",
   "metadata": {},
   "outputs": [],
   "source": [
    "#testing the search song function\n",
    "search_song(\"imagine\",'john lennon', 1)"
   ]
  },
  {
   "cell_type": "code",
   "execution_count": null,
   "id": "4bad0e5e-e9e6-41ea-be48-6978c711bdf0",
   "metadata": {},
   "outputs": [],
   "source": [
    "# loading the dataframe with the hot 100 songs\n",
    "hot_songs_09_jan = pd.read_csv('hot_songs_09_jan.csv')"
   ]
  },
  {
   "cell_type": "code",
   "execution_count": null,
   "id": "3d141f0e-c215-4f2a-bb32-ae286d3e7e9b",
   "metadata": {},
   "outputs": [],
   "source": [
    "for index, row in hot_songs_09_jan.iterrows():\n",
    "    result_df=search_song(row['title'], row['artist'], 1)\n",
    "    if not result_df.empty:\n",
    "        hot_songs_09_jan.at[index, 'id'] = result_df['id'].values[0]\n",
    "    else:\n",
    "        hot_songs_09_jan.at[index, 'id'] = \"\""
   ]
  },
  {
   "cell_type": "code",
   "execution_count": null,
   "id": "78bcf569-6d93-47b3-9208-202a023f5c63",
   "metadata": {},
   "outputs": [],
   "source": [
    "display(hot_songs_09_jan)"
   ]
  },
  {
   "cell_type": "code",
   "execution_count": null,
   "id": "f1d486fc-38e5-4faf-a528-7a8e9c2a2769",
   "metadata": {},
   "outputs": [],
   "source": [
    "hot_songs_09_jan=hot_songs_09_jan[hot_songs_09_jan[\"id\"]!=\"\"]\n",
    "display(hot_songs_09_jan.head())\n",
    "hot_songs_09_jan.shape"
   ]
  },
  {
   "cell_type": "code",
   "execution_count": null,
   "id": "02b8f545-7855-4054-ba5d-bf658463726c",
   "metadata": {},
   "outputs": [],
   "source": [
    "# I load the not_hot songs df\n",
    "not_hot= pd.read_csv('final_df_not_hot.csv')"
   ]
  },
  {
   "cell_type": "code",
   "execution_count": null,
   "id": "a317c221-8d55-473e-af63-aec78cf084fc",
   "metadata": {},
   "outputs": [],
   "source": [
    "# Show the shape and the head:\n",
    "display(not_hot.shape)\n",
    "not_hot.head()"
   ]
  },
  {
   "cell_type": "code",
   "execution_count": null,
   "id": "62c9cc9c-deb8-445b-b2c4-e7ce4de8020e",
   "metadata": {},
   "outputs": [],
   "source": [
    "# I apply the search_song to create an extra column into the not_hot df and obtain the id.\n",
    "# we print those songs for which no id was found.\n",
    "for index, row in not_hot.iterrows():\n",
    "    result_df=search_song(row['title'], row['artist'], 1)\n",
    "    if not result_df.empty:\n",
    "        not_hot.at[index, 'id'] = result_df['id'].values[0]\n",
    "    else:\n",
    "        not_hot.at[index, 'id'] = \"\""
   ]
  },
  {
   "cell_type": "code",
   "execution_count": null,
   "id": "106eab42-ff19-42cb-95f7-52f656aed83a",
   "metadata": {},
   "outputs": [],
   "source": [
    "# We filter out the records with empty id\n",
    "not_hot = not_hot[not_hot['id']!= \"\"]\n",
    "display(not_hot.head(10))\n",
    "not_hot.shape"
   ]
  },
  {
   "cell_type": "code",
   "execution_count": null,
   "id": "1142e067-1c3d-4543-a8cd-8fc803f19e0d",
   "metadata": {},
   "outputs": [],
   "source": [
    "# We define the function to retrieve the audio features for the different chunks we have created before\n",
    "import pandas as pd\n",
    "import time\n",
    "\n",
    "def get_audio_features_for_chunks(sp, list_of_song_ids, chunk_size=50, sleep_time=20):\n",
    "\n",
    "    # Split the list_of_song_ids into chunks of size chunk_size\n",
    "    song_id_chunks = [list_of_song_ids[i:i + chunk_size] for i in range(0, len(list_of_song_ids), chunk_size)]\n",
    "\n",
    "    # Create an empty DataFrame to store the audio features\n",
    "    df_audio_features = pd.DataFrame()\n",
    "\n",
    "    # Iterate through each chunk\n",
    "    for chunk in song_id_chunks:\n",
    "        print(\"Collecting audio features for chunk...\")\n",
    "        time.sleep(sleep_time) \n",
    "        my_dict = sp.audio_features(chunk)\n",
    "\n",
    "        # Check if my_dict is not None and contains elements before creating a DataFrame\n",
    "        if my_dict and isinstance(my_dict, list) and len(my_dict) > 0:\n",
    "            # Create a new dictionary with a more structured format\n",
    "            my_dict_new = {key: [item[key] for item in my_dict] for key in my_dict[0]}\n",
    "\n",
    "            # Create a DataFrame from the audio features and append it to df_audio_features\n",
    "            df_chunk = pd.DataFrame(my_dict_new)\n",
    "            df_audio_features = pd.concat([df_audio_features, df_chunk], ignore_index=True)\n",
    "\n",
    "    return df_audio_features"
   ]
  },
  {
   "cell_type": "code",
   "execution_count": null,
   "id": "a089785b-dae5-4958-af9f-c4dc343be2dd",
   "metadata": {},
   "outputs": [],
   "source": [
    "# get list with all the ids from hot_song df\n",
    "hot_song_id_list = hot_songs_09_jan[\"id\"].values.tolist()\n",
    "display(hot_song_id_list)"
   ]
  },
  {
   "cell_type": "code",
   "execution_count": null,
   "id": "6c668018-a43a-4bbb-a95f-d3189ba19359",
   "metadata": {},
   "outputs": [],
   "source": [
    "# we get the audio features for the hot_songs df:\n",
    "hot_songs_feat = get_audio_features_for_chunks(sp, hot_song_id_list, chunk_size=50, sleep_time=20)"
   ]
  },
  {
   "cell_type": "code",
   "execution_count": null,
   "id": "fa145a24-8cab-49f7-95c1-7e67d2c48cbb",
   "metadata": {},
   "outputs": [],
   "source": [
    "display(hot_songs_feat.shape)\n",
    "hot_songs_feat.head()"
   ]
  },
  {
   "cell_type": "code",
   "execution_count": null,
   "id": "4c902b73-179c-4a65-bf3c-66d45a611406",
   "metadata": {},
   "outputs": [],
   "source": [
    "# we get the list of song id for the not_hot df:\n",
    "not_hot_song_id_list = not_hot[\"id\"].tolist()\n",
    "not_hot_song_id_list"
   ]
  },
  {
   "cell_type": "code",
   "execution_count": null,
   "id": "671ce2b5-56c4-4bb6-a6ac-67306a1625e6",
   "metadata": {},
   "outputs": [],
   "source": [
    "# we get the audio features for the not_hot df via the list of songs obtained on the previous step:\n",
    "not_hot_songs_feat = get_audio_features_for_chunks(sp, not_hot_song_id_list, chunk_size=50, sleep_time=20)"
   ]
  },
  {
   "cell_type": "code",
   "execution_count": null,
   "id": "f1417786-cbcb-4f44-b24c-179fc7a265e6",
   "metadata": {},
   "outputs": [],
   "source": [
    "not_hot_songs_feat.head()\n",
    "display(not_hot_songs_feat.shape)"
   ]
  },
  {
   "cell_type": "code",
   "execution_count": null,
   "id": "3f8dcd1d-4ec2-482b-a47d-1aebdb36f4ce",
   "metadata": {},
   "outputs": [],
   "source": [
    "def merge_and_remove_duplicates(df, audio_features_df, merge_column='id'):\n",
    "    \"\"\"\n",
    "    Merge a given DataFrame with the audio features DataFrame based on a specified column and remove all duplicates.\n",
    "\n",
    "    Parameters:\n",
    "    - df: Original DataFrame\n",
    "    - audio_features_df: DataFrame containing audio features\n",
    "    - merge_column: Column to merge on (default is 'id')\n",
    "\n",
    "    Returns:\n",
    "    - Merged and de-duplicated DataFrame\n",
    "    \"\"\"\n",
    "   \n",
    "    # Merge DataFrames\n",
    "    merged_df = pd.merge(df, audio_features_df, on=merge_column, how='inner')\n",
    "\n",
    "\n",
    "    # Remove all duplicates from the merged DataFrame\n",
    "    merged_df = merged_df.drop_duplicates()\n",
    "\n",
    "    return merged_df"
   ]
  },
  {
   "cell_type": "code",
   "execution_count": null,
   "id": "56b16ba7-549b-4f82-b723-dc43492b30a6",
   "metadata": {},
   "outputs": [],
   "source": [
    "hot_songs_audio = merge_and_remove_duplicates(hot_songs_09_jan, hot_songs_feat, merge_column='id')"
   ]
  },
  {
   "cell_type": "code",
   "execution_count": null,
   "id": "0e2aaa23-dbfb-4777-b516-31e5522fabd9",
   "metadata": {},
   "outputs": [],
   "source": [
    "display(hot_songs_audio.shape)\n",
    "hot_songs_audio.head()"
   ]
  },
  {
   "cell_type": "code",
   "execution_count": null,
   "id": "4f0b740f-ebd5-46c9-a2f7-7b5d88b6132f",
   "metadata": {},
   "outputs": [],
   "source": [
    "not_hot_songs_audio = merge_and_remove_duplicates(not_hot, not_hot_songs_feat, merge_column='id')"
   ]
  },
  {
   "cell_type": "code",
   "execution_count": null,
   "id": "86b9912c-376d-43ec-b79e-0c9d93f33eaa",
   "metadata": {},
   "outputs": [],
   "source": [
    "display(not_hot_songs_audio.shape)\n",
    "not_hot_songs_audio.head()"
   ]
  },
  {
   "cell_type": "code",
   "execution_count": null,
   "id": "be5f273e-b573-48bc-855d-cc2adc7e11d0",
   "metadata": {},
   "outputs": [],
   "source": [
    "hot_songs_audio.to_csv('hot_songs_audio_features.csv',sep=';', index=False)"
   ]
  },
  {
   "cell_type": "code",
   "execution_count": null,
   "id": "9431545b-288e-4284-bfc8-a45daa16799f",
   "metadata": {},
   "outputs": [],
   "source": [
    "not_hot_songs_audio.to_csv('not_hot_songs_audio_features.csv',sep=';', index=False)"
   ]
  },
  {
   "cell_type": "code",
   "execution_count": null,
   "id": "fd758d3d-7151-46b5-a72d-bf68b76664af",
   "metadata": {},
   "outputs": [],
   "source": []
  }
 ],
 "metadata": {
  "kernelspec": {
   "display_name": "Python 3 (ipykernel)",
   "language": "python",
   "name": "python3"
  },
  "language_info": {
   "codemirror_mode": {
    "name": "ipython",
    "version": 3
   },
   "file_extension": ".py",
   "mimetype": "text/x-python",
   "name": "python",
   "nbconvert_exporter": "python",
   "pygments_lexer": "ipython3",
   "version": "3.11.7"
  }
 },
 "nbformat": 4,
 "nbformat_minor": 5
}
